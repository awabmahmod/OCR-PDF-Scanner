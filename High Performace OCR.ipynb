{
 "cells": [
  {
   "cell_type": "code",
   "execution_count": 2,
   "id": "5afe09c8",
   "metadata": {
    "ExecuteTime": {
     "end_time": "2023-09-18T14:30:15.613906Z",
     "start_time": "2023-09-18T14:30:15.150788Z"
    }
   },
   "outputs": [],
   "source": [
    "\n",
    "import pytesseract\n",
    "from pdf2image import convert_from_path"
   ]
  },
  {
   "cell_type": "code",
   "execution_count": 3,
   "id": "c417eca5",
   "metadata": {
    "ExecuteTime": {
     "end_time": "2023-09-18T14:30:16.113421Z",
     "start_time": "2023-09-18T14:30:16.101345Z"
    }
   },
   "outputs": [],
   "source": [
    "\n",
    "def ocr_large_pdf(pdf_path):\n",
    "    scrab=[]\n",
    "    pytesseract.pytesseract.tesseract_cmd = r'C:\\Program Files\\Tesseract-OCR\\tesseract.exe'\n",
    "    images = convert_from_path(pdf_path,poppler_path='C:/Program Files (x86)/poppler-23.08.0/Library/bin')\n",
    "    text = \"\"\n",
    "    for image in images:\n",
    "        scrab.append(pytesseract.image_to_string(image)) \n",
    "        \n",
    "    return scrab"
   ]
  },
  {
   "cell_type": "code",
   "execution_count": 5,
   "id": "15f0c33f",
   "metadata": {
    "ExecuteTime": {
     "end_time": "2023-09-18T14:31:03.364104Z",
     "start_time": "2023-09-18T14:31:01.502365Z"
    }
   },
   "outputs": [
    {
     "name": "stdout",
     "output_type": "stream",
     "text": [
      "['Student Transcript 20210195\\nuu ali | Total GPA Grade\\natin oaneire Student Name: Awab Mahmoud El Tarabilly\\nSpecialization: General 3.05 Very Good\\ntbe eISly Slwlall aus Hours 72\\nState Level Three - Passed\\nGeneral Requirements Faculty Requirements\\n12 hours (6 compulsory hours + 6 elective hours) 72 hours ( 63 compulsory hours + 9 elective hours)\\nCode Course Name Hours | Total | Grade Code Course Name Hours | Total | Grade\\nCompulsory Subjects 6 hours Compulsory Subjects 63 hours\\nHU 111 English-1 2 83 B+ MA 111 Mathematics-1 3 65 Cc\\nHU 112 English-2 2 94 A+ MA 112 Discrete Mathematics 3 72 C+\\nHU 313 Human Rights 2 83 B+ MA 113 Mathematics-2 3 60 D+\\nST 121 Probability and Statistics-1 3 84 B+\\nCode Course Name Hours | Total | Grade IT 111 Electronics-1 3 77 B\\nElectives Subjects 6 hours PH 111 Physics 3 71 C+\\nHU 121 Fundamentals of Economics 3 cs 111 Introduction to Computers 3 89 A\\nHU 213 English-3 3 cs 112 Programming-1 3 84 B+\\nHU 323 Fundamentals of Accounting 3 CS 221 Logic Design 3 49 F\\nHU 331 Communication & Negotiation Skills 3 CS 221 Logic Design 3 64 D+\\nHU 332 Creative Thinking 3 cs 214 Data Structures 3 81 B+\\nHU 333 Mass Communication 3 CS 316 Algorithms 3 78 B\\nHU 334 Professional Ethics 3 IT 221 Data Communication 3 87 A\\nIS 240 Operations Research 3 84 B+\\nMain Specialization Requirements IS 231 Fundamentals of Information Systems 3 77 B\\n60 hours ( 39 compulsory hours + 21 elective hours) 1S 211 Database System-1 3 76 B\\nCode I Course Name Hours Total Grade IS 351 System Analysis and Design-1 3\\nCompulsory Subjects 39 hours IT 222 Computer Networks-1 3 78 B\\nIT 223 Internet Technology 3 92 At\\nCode I Course Name Hours Total Grade CS 241 Operating Systems-1 3 70 C+\\nElectives Subjects 21 hours CS 251 Software Engineering-1 3 70 C+\\nCs 213 Programming-2 3 76 B\\nCode Course Name Hours | Total | Grade\\nElectives Subjects 9 hours\\nST 122 Probability and Statistics-2 3 75 B\\nHU 122 Fundamentals of Management 3 78 B\\n1S 321 Projects Management 3\\nIT 241 Signals and Systems 3\\nIS 241 Modeling and Simulation 3\\nIS 342 Simulation Languages 3\\n17211 Computer Maintenance 3\\ncs 313 Programming-3 3\\n\\nThe student fulfill () does not fulfill () the terms & conditions of graduation\\n\\nCentral Control\\n\\nReview Committee\\n\\nVice Dean\\n\\nSeptember 18, 2023, 11:45 am Page 1/1\\n\\nDean\\n']\n"
     ]
    }
   ],
   "source": [
    "pdf_path = \"t.pdf\"\n",
    "ocr_text = ocr_large_pdf(pdf_path)\n",
    "print(ocr_text)\n"
   ]
  },
  {
   "cell_type": "code",
   "execution_count": null,
   "id": "1f913ec6",
   "metadata": {},
   "outputs": [],
   "source": []
  }
 ],
 "metadata": {
  "kernelspec": {
   "display_name": "Python 3 (ipykernel)",
   "language": "python",
   "name": "python3"
  },
  "language_info": {
   "codemirror_mode": {
    "name": "ipython",
    "version": 3
   },
   "file_extension": ".py",
   "mimetype": "text/x-python",
   "name": "python",
   "nbconvert_exporter": "python",
   "pygments_lexer": "ipython3",
   "version": "3.9.13"
  },
  "varInspector": {
   "cols": {
    "lenName": "20",
    "lenType": 16,
    "lenVar": 40
   },
   "kernels_config": {
    "python": {
     "delete_cmd_postfix": "",
     "delete_cmd_prefix": "del ",
     "library": "var_list.py",
     "varRefreshCmd": "print(var_dic_list())"
    },
    "r": {
     "delete_cmd_postfix": ") ",
     "delete_cmd_prefix": "rm(",
     "library": "var_list.r",
     "varRefreshCmd": "cat(var_dic_list()) "
    }
   },
   "types_to_exclude": [
    "module",
    "function",
    "builtin_function_or_method",
    "instance",
    "_Feature"
   ],
   "window_display": false
  }
 },
 "nbformat": 4,
 "nbformat_minor": 5
}
